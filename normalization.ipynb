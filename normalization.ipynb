{
 "cells": [
  {
   "cell_type": "code",
   "execution_count": 20,
   "metadata": {
    "collapsed": true
   },
   "outputs": [],
   "source": [
    "from pandas import Series\n",
    "from sklearn.preprocessing import StandardScaler\n",
    "from math import sqrt\n",
    "import matplotlib.pyplot as plt\n",
    "import pandas as pd"
   ]
  },
  {
   "cell_type": "code",
   "execution_count": 24,
   "metadata": {},
   "outputs": [
    {
     "name": "stdout",
     "output_type": "stream",
     "text": [
      "49\n",
      "54    1\n",
      "59    1\n",
      "57    1\n",
      "61    1\n",
      "39    1\n",
      "61    0\n",
      "56    1\n",
      "52    1\n",
      "43    0\n",
      "62    0\n",
      "41    1\n",
      "58    1\n",
      "35    0\n",
      "63    1\n",
      "65    1\n",
      "48    1\n",
      "63    0\n",
      "51    1\n",
      "55    1\n",
      "65    1\n",
      "Name: 1, dtype: int64\n"
     ]
    }
   ],
   "source": [
    "series = Series.from_csv('delete missing rows.csv',header=4)\n",
    "print(series.head(20))"
   ]
  },
  {
   "cell_type": "code",
   "execution_count": null,
   "metadata": {
    "collapsed": true
   },
   "outputs": [],
   "source": []
  },
  {
   "cell_type": "code",
   "execution_count": null,
   "metadata": {
    "collapsed": true
   },
   "outputs": [],
   "source": []
  },
  {
   "cell_type": "code",
   "execution_count": 22,
   "metadata": {},
   "outputs": [
    {
     "ename": "ValueError",
     "evalue": "cannot reshape array of size 2842 into shape (203,1)",
     "output_type": "error",
     "traceback": [
      "\u001b[0;31m---------------------------------------------------------------------------\u001b[0m",
      "\u001b[0;31mValueError\u001b[0m                                Traceback (most recent call last)",
      "\u001b[0;32m<ipython-input-22-899f13cbb0ee>\u001b[0m in \u001b[0;36m<module>\u001b[0;34m()\u001b[0m\n\u001b[1;32m      1\u001b[0m \u001b[0mvalues\u001b[0m \u001b[0;34m=\u001b[0m \u001b[0mseries\u001b[0m\u001b[0;34m.\u001b[0m\u001b[0mvalues\u001b[0m\u001b[0;34m\u001b[0m\u001b[0m\n\u001b[0;32m----> 2\u001b[0;31m \u001b[0mvalues\u001b[0m \u001b[0;34m=\u001b[0m \u001b[0mvalues\u001b[0m\u001b[0;34m.\u001b[0m\u001b[0mreshape\u001b[0m\u001b[0;34m(\u001b[0m\u001b[0;34m(\u001b[0m\u001b[0mlen\u001b[0m\u001b[0;34m(\u001b[0m\u001b[0mvalues\u001b[0m\u001b[0;34m)\u001b[0m\u001b[0;34m,\u001b[0m \u001b[0;36m1\u001b[0m\u001b[0;34m)\u001b[0m\u001b[0;34m)\u001b[0m\u001b[0;34m\u001b[0m\u001b[0m\n\u001b[0m",
      "\u001b[0;31mValueError\u001b[0m: cannot reshape array of size 2842 into shape (203,1)"
     ]
    }
   ],
   "source": [
    "values = series.values\n",
    "values = values.reshape((len(values), 1))"
   ]
  },
  {
   "cell_type": "code",
   "execution_count": null,
   "metadata": {
    "collapsed": true
   },
   "outputs": [],
   "source": []
  },
  {
   "cell_type": "code",
   "execution_count": 15,
   "metadata": {},
   "outputs": [
    {
     "name": "stdout",
     "output_type": "stream",
     "text": [
      "Mean: 0.665025, StandardDeviation: 0.471982\n"
     ]
    },
    {
     "name": "stderr",
     "output_type": "stream",
     "text": [
      "/home/riya/anaconda3/lib/python3.6/site-packages/sklearn/utils/validation.py:444: DataConversionWarning: Data with input dtype int64 was converted to float64 by StandardScaler.\n",
      "  warnings.warn(msg, DataConversionWarning)\n"
     ]
    }
   ],
   "source": [
    "scaler = StandardScaler()\n",
    "scaler = scaler.fit(values)\n",
    "print('Mean: %f, StandardDeviation: %f' % (scaler.mean_, sqrt(scaler.var_)))"
   ]
  },
  {
   "cell_type": "code",
   "execution_count": 16,
   "metadata": {},
   "outputs": [
    {
     "name": "stderr",
     "output_type": "stream",
     "text": [
      "/home/riya/anaconda3/lib/python3.6/site-packages/sklearn/utils/validation.py:444: DataConversionWarning: Data with input dtype int64 was converted to float64 by StandardScaler.\n",
      "  warnings.warn(msg, DataConversionWarning)\n"
     ]
    }
   ],
   "source": [
    "normalized = scaler.transform(values)"
   ]
  },
  {
   "cell_type": "code",
   "execution_count": 18,
   "metadata": {},
   "outputs": [
    {
     "name": "stdout",
     "output_type": "stream",
     "text": [
      "[0.70972086]\n",
      "[0.70972086]\n",
      "[-1.40900465]\n",
      "[-1.40900465]\n",
      "[0.70972086]\n",
      "[0.70972086]\n",
      "[0.70972086]\n",
      "[0.70972086]\n",
      "[0.70972086]\n",
      "[0.70972086]\n",
      "[-1.40900465]\n",
      "[0.70972086]\n",
      "[0.70972086]\n",
      "[-1.40900465]\n",
      "[-1.40900465]\n",
      "[0.70972086]\n",
      "[0.70972086]\n",
      "[-1.40900465]\n",
      "[0.70972086]\n",
      "[0.70972086]\n",
      "[0.70972086]\n",
      "[-1.40900465]\n",
      "[0.70972086]\n",
      "[0.70972086]\n",
      "[0.70972086]\n",
      "[-1.40900465]\n",
      "[-1.40900465]\n",
      "[0.70972086]\n",
      "[0.70972086]\n",
      "[-1.40900465]\n",
      "[0.70972086]\n",
      "[0.70972086]\n",
      "[0.70972086]\n",
      "[0.70972086]\n",
      "[-1.40900465]\n",
      "[-1.40900465]\n",
      "[0.70972086]\n",
      "[0.70972086]\n",
      "[0.70972086]\n",
      "[0.70972086]\n",
      "[0.70972086]\n",
      "[0.70972086]\n",
      "[0.70972086]\n",
      "[0.70972086]\n",
      "[0.70972086]\n",
      "[0.70972086]\n",
      "[0.70972086]\n",
      "[0.70972086]\n",
      "[0.70972086]\n",
      "[-1.40900465]\n",
      "[0.70972086]\n",
      "[-1.40900465]\n",
      "[-1.40900465]\n",
      "[0.70972086]\n",
      "[0.70972086]\n",
      "[0.70972086]\n",
      "[0.70972086]\n",
      "[0.70972086]\n",
      "[0.70972086]\n",
      "[0.70972086]\n",
      "[0.70972086]\n",
      "[0.70972086]\n",
      "[-1.40900465]\n",
      "[-1.40900465]\n",
      "[0.70972086]\n",
      "[0.70972086]\n",
      "[0.70972086]\n",
      "[-1.40900465]\n",
      "[0.70972086]\n",
      "[-1.40900465]\n",
      "[0.70972086]\n",
      "[0.70972086]\n",
      "[-1.40900465]\n",
      "[-1.40900465]\n",
      "[0.70972086]\n",
      "[0.70972086]\n",
      "[0.70972086]\n",
      "[0.70972086]\n",
      "[0.70972086]\n",
      "[0.70972086]\n",
      "[0.70972086]\n",
      "[-1.40900465]\n",
      "[0.70972086]\n",
      "[0.70972086]\n",
      "[-1.40900465]\n",
      "[-1.40900465]\n",
      "[0.70972086]\n",
      "[0.70972086]\n",
      "[0.70972086]\n",
      "[0.70972086]\n",
      "[0.70972086]\n",
      "[0.70972086]\n",
      "[0.70972086]\n",
      "[-1.40900465]\n",
      "[-1.40900465]\n",
      "[0.70972086]\n",
      "[0.70972086]\n",
      "[-1.40900465]\n",
      "[-1.40900465]\n",
      "[0.70972086]\n",
      "[-1.40900465]\n",
      "[-1.40900465]\n",
      "[0.70972086]\n",
      "[-1.40900465]\n",
      "[0.70972086]\n",
      "[0.70972086]\n",
      "[0.70972086]\n",
      "[0.70972086]\n",
      "[0.70972086]\n",
      "[-1.40900465]\n",
      "[-1.40900465]\n",
      "[0.70972086]\n",
      "[0.70972086]\n",
      "[-1.40900465]\n",
      "[0.70972086]\n",
      "[0.70972086]\n",
      "[-1.40900465]\n",
      "[-1.40900465]\n",
      "[-1.40900465]\n",
      "[0.70972086]\n",
      "[-1.40900465]\n",
      "[-1.40900465]\n",
      "[-1.40900465]\n",
      "[0.70972086]\n",
      "[-1.40900465]\n",
      "[-1.40900465]\n",
      "[0.70972086]\n",
      "[-1.40900465]\n",
      "[0.70972086]\n",
      "[0.70972086]\n",
      "[-1.40900465]\n",
      "[-1.40900465]\n",
      "[0.70972086]\n",
      "[-1.40900465]\n",
      "[-1.40900465]\n",
      "[0.70972086]\n",
      "[0.70972086]\n",
      "[0.70972086]\n",
      "[-1.40900465]\n",
      "[0.70972086]\n",
      "[0.70972086]\n",
      "[-1.40900465]\n",
      "[-1.40900465]\n",
      "[0.70972086]\n",
      "[-1.40900465]\n",
      "[0.70972086]\n",
      "[0.70972086]\n",
      "[0.70972086]\n",
      "[0.70972086]\n",
      "[0.70972086]\n",
      "[0.70972086]\n",
      "[0.70972086]\n",
      "[0.70972086]\n",
      "[-1.40900465]\n",
      "[0.70972086]\n",
      "[-1.40900465]\n",
      "[-1.40900465]\n",
      "[-1.40900465]\n",
      "[0.70972086]\n",
      "[0.70972086]\n",
      "[-1.40900465]\n",
      "[-1.40900465]\n",
      "[-1.40900465]\n",
      "[0.70972086]\n",
      "[0.70972086]\n",
      "[0.70972086]\n",
      "[0.70972086]\n",
      "[0.70972086]\n",
      "[0.70972086]\n",
      "[0.70972086]\n",
      "[0.70972086]\n",
      "[0.70972086]\n",
      "[0.70972086]\n",
      "[-1.40900465]\n",
      "[0.70972086]\n",
      "[0.70972086]\n",
      "[-1.40900465]\n",
      "[-1.40900465]\n",
      "[0.70972086]\n",
      "[-1.40900465]\n",
      "[0.70972086]\n",
      "[0.70972086]\n",
      "[-1.40900465]\n",
      "[0.70972086]\n",
      "[0.70972086]\n",
      "[0.70972086]\n",
      "[-1.40900465]\n",
      "[0.70972086]\n",
      "[0.70972086]\n",
      "[0.70972086]\n",
      "[0.70972086]\n",
      "[-1.40900465]\n",
      "[0.70972086]\n",
      "[0.70972086]\n",
      "[-1.40900465]\n",
      "[0.70972086]\n",
      "[0.70972086]\n",
      "[-1.40900465]\n",
      "[0.70972086]\n",
      "[0.70972086]\n",
      "[0.70972086]\n",
      "[-1.40900465]\n",
      "[0.70972086]\n"
     ]
    },
    {
     "ename": "IndexError",
     "evalue": "index 203 is out of bounds for axis 0 with size 203",
     "output_type": "error",
     "traceback": [
      "\u001b[0;31m---------------------------------------------------------------------------\u001b[0m",
      "\u001b[0;31mIndexError\u001b[0m                                Traceback (most recent call last)",
      "\u001b[0;32m<ipython-input-18-67ada7212432>\u001b[0m in \u001b[0;36m<module>\u001b[0;34m()\u001b[0m\n\u001b[1;32m      1\u001b[0m \u001b[0;32mfor\u001b[0m \u001b[0mi\u001b[0m \u001b[0;32min\u001b[0m \u001b[0mrange\u001b[0m\u001b[0;34m(\u001b[0m\u001b[0;36m303\u001b[0m\u001b[0;34m)\u001b[0m\u001b[0;34m:\u001b[0m\u001b[0;34m\u001b[0m\u001b[0m\n\u001b[0;32m----> 2\u001b[0;31m         \u001b[0mprint\u001b[0m\u001b[0;34m(\u001b[0m\u001b[0mnormalized\u001b[0m\u001b[0;34m[\u001b[0m\u001b[0mi\u001b[0m\u001b[0;34m]\u001b[0m\u001b[0;34m)\u001b[0m\u001b[0;34m\u001b[0m\u001b[0m\n\u001b[0m",
      "\u001b[0;31mIndexError\u001b[0m: index 203 is out of bounds for axis 0 with size 203"
     ]
    }
   ],
   "source": [
    "for i in range(303):\n",
    "\tprint(normalized[i])"
   ]
  }
 ],
 "metadata": {
  "kernelspec": {
   "display_name": "Python 3",
   "language": "python",
   "name": "python3"
  },
  "language_info": {
   "codemirror_mode": {
    "name": "ipython",
    "version": 3
   },
   "file_extension": ".py",
   "mimetype": "text/x-python",
   "name": "python",
   "nbconvert_exporter": "python",
   "pygments_lexer": "ipython3",
   "version": "3.6.2"
  }
 },
 "nbformat": 4,
 "nbformat_minor": 2
}
